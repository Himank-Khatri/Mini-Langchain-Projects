{
 "cells": [
  {
   "cell_type": "code",
   "execution_count": 8,
   "metadata": {},
   "outputs": [],
   "source": [
    "from langchain.document_loaders import PyPDFLoader\n",
    "from langchain_community.document_loaders import PyPDFDirectoryLoader\n",
    "from langchain.text_splitter import RecursiveCharacterTextSplitter\n",
    "from langchain_community.vectorstores import FAISS\n",
    "\n",
    "from langchain_huggingface import HuggingFaceEmbeddings\n",
    "from langchain.prompts import PromptTemplate\n",
    "\n",
    "from langchain.chains import retrieval_qa"
   ]
  },
  {
   "cell_type": "code",
   "execution_count": null,
   "metadata": {},
   "outputs": [
    {
     "data": {
      "text/plain": [
       "Document(metadata={'producer': 'Adobe PDF Library 17.0', 'creator': 'Adobe InDesign 18.2 (Windows)', 'creationdate': '2023-09-09T07:52:17-04:00', 'author': 'U.S. Census Bureau', 'keywords': 'acsbr-015', 'moddate': '2023-09-12T14:44:47+01:00', 'title': 'Health Insurance Coverage Status and Type by Geography: 2021 and 2022', 'trapped': '/false', 'source': 'us_sensus\\\\acsbr-015.pdf', 'total_pages': 18, 'page': 0, 'page_label': '1'}, page_content='Health Insurance Coverage Status and Type \\nby Geography: 2021 and 2022\\nAmerican Community Survey Briefs\\nACSBR-015\\nIssued September 2023\\nDouglas Conway and Breauna Branch\\nINTRODUCTION\\nDemographic shifts as well as economic and govern-\\nment policy changes can affect people’s access to \\nhealth coverage. For example, between 2021 and 2022, \\nthe labor market continued to improve, which may \\nhave affected private coverage in the United States \\nduring that time.1 Public policy changes included \\nthe renewal of the Public Health Emergency, which \\nallowed Medicaid enrollees to remain covered under \\nthe Continuous Enrollment Provision.2 The American \\nRescue Plan (ARP) enhanced Marketplace premium \\nsubsidies for those with incomes above 400 percent \\nof the poverty level as well as for unemployed people.3\\nIn addition to national policies, individual states and \\nthe District of Columbia can affect health insurance \\ncoverage by making Marketplace or Medicaid more')"
      ]
     },
     "execution_count": 4,
     "metadata": {},
     "output_type": "execute_result"
    }
   ],
   "source": [
    "loader = PyPDFDirectoryLoader('./us_census')\n",
    "documents = loader.load()\n",
    "\n",
    "text_splitter = RecursiveCharacterTextSplitter(chunk_size=1000, chunk_overlap=200)\n",
    "\n",
    "final_documents = text_splitter.split_documents(documents)\n",
    "final_documents[0]"
   ]
  },
  {
   "cell_type": "code",
   "execution_count": 5,
   "metadata": {},
   "outputs": [
    {
     "data": {
      "text/plain": [
       "316"
      ]
     },
     "execution_count": 5,
     "metadata": {},
     "output_type": "execute_result"
    }
   ],
   "source": [
    "len(final_documents)"
   ]
  },
  {
   "cell_type": "code",
   "execution_count": null,
   "metadata": {},
   "outputs": [],
   "source": [
    "embeddings = HuggingFaceEmbeddings(\n",
    "    model_name=\"ibm-granite/granite-embedding-278m-multilingual\",\n",
    "    model_kwargs={'device': 'cpu'},\n",
    "    encode_kwargs={'normalize_embeddings': True})"
   ]
  },
  {
   "cell_type": "code",
   "execution_count": 10,
   "metadata": {},
   "outputs": [
    {
     "data": {
      "text/plain": [
       "[Document(id='c3be583c-c51c-4d3e-bfda-96c9d63669dc', metadata={'producer': 'Adobe PDF Library 17.0', 'creator': 'Adobe InDesign 18.5 (Windows)', 'creationdate': '2023-10-19T11:35:38-04:00', 'author': 'U.S. Census Bureau', 'keywords': 'household income in states and metropolitan areas 2022', 'moddate': '2023-11-30T12:35:09+00:00', 'title': 'Household Income in States and Metropolitan Areas: 2022', 'trapped': '/false', 'source': 'us_sensus\\\\acsbr-017.pdf', 'total_pages': 9, 'page': 6, 'page_label': '7'}, page_content='U.S. Census Bureau  7\\nhouseholds to $51,374 for Black \\nhouseholds.10 Black households \\nexperienced a statistically sig-\\nnificant increase in real median \\nhousehold income between 2021 \\nand 2022. Asian households \\n10 Federal surveys give respondents the \\noption of reporting more than one race. \\nTherefore, two basic ways of defining a race \\ngroup are possible. A group, such as Asian, \\nmay be defined as those who reported Asian \\nand no other race (the race-alone or single-\\nrace concept) or as those who reported \\nAsian regardless of whether they also \\nreported another race (the race-alone-or-\\nin-combination concept). This report shows \\ndata using the race alone approach. Use of \\nthe single-race population does not imply \\nthat it is the preferred method of present-\\ning or analyzing data. The Census Bureau \\nuses a variety of approaches. In this report, \\nthe terms “White, not Hispanic” and “non-\\nHispanic White” are used interchangeably \\nand refer to people who are not Hispanic and \\nwho reported White and no other race. Since \\nHispanic people may be any race, data in this \\nreport for Hispanic people overlap with data \\nfor race groups. Household income by race \\nand Hispanic origin refers to the race and \\nHispanic origin of the householder. Race and \\nHispanic origin of household members may \\nbe different from those of the householder.\\nexperienced a decrease of 1.6 per-\\ncent, non-Hispanic White house-\\nholds fell by 1.4 percent, and White \\nhouseholds fell by 1.3 percent. \\nHispanic households experienced \\nno statistically significant change \\nbetween 2021 and 2022. \\nAge of Householder\\nReal median household income \\nincreased 2.0 percent between \\n2021 and 2022 for households with \\na householder under the age of \\n25 and decreased 2.1 percent for \\nhouseholds with a householder \\n65 years and older, as shown in \\nTable 3. There was no statisti-\\ncally significant change in median \\nhousehold income between 2021 \\nand 2022 for the remaining age \\ngroups. Households with a house-\\nholder aged 45 to 64 had the high-\\nest median household income in \\n2022 ($90,748), followed by those \\nwith householders aged 25 to 44 \\n($83,783), and then those with \\nhouseholders 65 years and older \\n($53,963). Households maintained \\nby householders under the age of \\n25 had the lowest median house-\\nhold income ($42,079).\\nINCOME INEQUALITY\\nThe Gini index for the United \\nStates in 2022 (0.486) was higher \\nthan in 2021 (0.485). Between \\n2021 and 2022, the ACS Gini index \\nincreased in eight states: California, \\nIndiana, Kentucky, Massachusetts, \\nMinnesota, New York, Oklahoma, \\nand Pennsylvania. The District of \\nColumbia, Louisiana, Tennessee, \\nand Utah had lower Gini indexes \\nthan in 2021. Changes from 2021 \\nwere not statistically significant \\nfor the other 39 states and Puerto \\nRico. Among the 50 states, New \\nYork had the highest Gini index. \\nTable 3. \\nHousehold Income by Selected Characteristics: 2021 and 2022\\n(In 2022 inflation-adjusted dollars)\\nCharacteristic\\n2021 ACS median \\nhousehold income  \\n(dollars)\\n2022 ACS median \\nhousehold income  \\n(dollars)\\nChange  \\nin median  \\nhousehold income \\n(percent)\\nEstimate\\nMargin of \\nerror (±)¹ Estimate\\nMargin of \\nerror (±)¹ Estimate\\nMargin of \\nerror (±)¹\\nHOUSEHOLDS\\nAll households  . . . . . . . . . . . . . . . . . . . . . . . . . . . . . . . 75,358 145 74,755 148 *–0.8 0.3\\nRace and Hispanic origin of householder\\nWhite.......................................... 80,994 177 79,933 202 *–1.3 0.3\\n White, not Hispanic ............................ 81,513 172 80,404 183 *–1.4 0.3\\nBlack .......................................... 50,559 362 51,374 331 *1.6 1.0\\nAsian .......................................... 108,710 655 106,954 596 *–1.6 0.8\\nHispanic (any race) ............................. 65,466 319 65,882 345 0.6 0.7\\nAge of householder\\nUnder 25 years ................................. 41,252 623 42,079 324 *2.0 1.7\\n25 to 44 years .................................. 83,595 238 83,783 257 0.2 0.4\\n45 to 64 years .................................. 90,594 259 90,748 306 0.2 0.4\\n65 years and older .............................. 55,093 169 53,963 176 *–2.1 0.4\\n* Statistically different from zero at the 90 percent confidence level.\\n¹ Data are based on a sample and are subject to sampling variability. A margin of error is a measure of an estimate’s variability. The larger the \\nmargin of error in relation to the size of the estimate, the less reliable the estimate. This number when added to and subtracted from the estimate \\nforms the 90 percent confidence interval. \\nNote: Data are limited to the household population and exclude the population living in institutions, college dormitories, and other group \\nquarters. For information on confidentiality protection, sampling error, nonsampling error, and definitions, refer to <www.census.gov/acs>.\\nSource: U.S. Census Bureau, 2021 and 2022 American Community Survey, 1-year estimates; 2021 and 2022 Puerto Rico Community Survey \\n(S1903).'),\n",
       " Document(id='7b2ef1e7-c728-4cbc-9ffa-4b1908044507', metadata={'producer': 'Adobe PDF Library 17.0', 'creator': 'Adobe InDesign 18.2 (Windows)', 'creationdate': '2023-09-09T07:52:17-04:00', 'author': 'U.S. Census Bureau', 'keywords': 'acsbr-015', 'moddate': '2023-09-12T14:44:47+01:00', 'title': 'Health Insurance Coverage Status and Type by Geography: 2021 and 2022', 'trapped': '/false', 'source': 'us_sensus\\\\acsbr-015.pdf', 'total_pages': 18, 'page': 10, 'page_label': '11'}, page_content='U.S. Census Bureau  11\\nSOURCE AND ACCURACY\\nThe data presented in this brief \\nare based on the ACS sample \\ninterviewed from January 2021 \\nthrough December 2021 (2021 \\nACS) and the ACS sample \\ninterviewed from January 2022 \\nthrough December 2022 (2022 \\nACS). The estimates based \\non these samples describe \\nthe average values of person, \\nhousehold, and housing unit \\ncharacteristics over the period \\nof collection. Data presented in \\nthis brief are subject to sampling \\nand nonsampling error. Sampling \\nerror is the uncertainty between \\nan estimate based on a sample \\nand the corresponding value \\nthat would be obtained if the \\nestimates were based on the entire \\npopulation (as from a census). \\nMeasures of sampling error are \\nprovided in the form of margins \\nof error for all estimates included \\nin this brief. All comparative \\nstatements in this brief have \\nundergone statistical testing, and \\ncomparisons are significant at the \\n90 percent confidence level, unless \\notherwise noted. In addition to \\nsampling error, nonsampling error \\nmay be introduced during any \\nof the operations used to collect \\nand process survey data such as \\nediting, reviewing, or keying data \\nfrom questionnaires. For more \\ninformation on sampling and \\nestimation methods, confidentiality \\nprotection, and sampling and \\nnonsampling errors, refer to the \\n2022 ACS Accuracy of the Data \\ndocument at <https:/ /www2.\\ncensus.gov/programs-surveys/\\nacs/tech_docs/accuracy/ACS_\\nAccuracy_of_Data_2022.pdf>.'),\n",
       " Document(id='0b5bbf80-724f-4b0e-96d2-45c8f719459f', metadata={'producer': 'Adobe PDF Library 16.0.5', 'creator': 'Adobe InDesign 17.1 (Windows)', 'creationdate': '2022-07-21T14:09:01-04:00', 'author': 'U.S. Census Bureau', 'moddate': '2022-07-21T14:55:54-04:00', 'subject': 'Household Economic Studies', 'title': 'Occupation, Earnings, and Job Characeristics', 'trapped': '/False', 'source': 'us_sensus\\\\p70-178.pdf', 'total_pages': 21, 'page': 1, 'page_label': '2'}, page_content='2 U.S. Census Bureau\\nABOUT THE DATA\\nThe Survey of Income and Program Participation\\nThe Survey of Income and Program Participation (SIPP) is a nationally representative, longitudinal survey \\nadministered by the U.S. Census Bureau that provides comprehensive information on the dynamics of \\nincome, employment, household composition, and government program participation. In addition, the \\nSIPP collects information on workers’ full employment history during the year. If respondents hold more \\nthan one job, or change jobs during the year, the SIPP asks about each job they worked. In total, the SIPP \\ncollects detailed information on up to seven jobs worked during the year and summary characteristics on \\nall additional jobs beyond the first seven. Because employment data are available at a weekly level, workers \\ncan also indicate whether they were unemployed or away from a specified job at any point during the year. \\nThe 2018 SIPP data used in this report reference the 2017 calendar year. For more information, visit the \\nSIPP website at <www.census.gov/sipp>. Additional information about how the SIPP collects summary \\ncharacteristics is available online at <www.census.gov/programs-surveys/sipp/tech-documentation/user-\\nnotes/2018-usernotes/2018-other-jobs-section.html>.\\nThe American Community Survey\\nThe American Community Survey (ACS) is an annual survey administered to over 3.5 million addresses \\nacross the United States (including Puerto Rico) that collects information on the nation’s demographics, \\nhousing, and employment. In contrast with the SIPP, the ACS only asks workers about their current or most \\nrecent job. If ACS workers hold two or more jobs concurrently, they are asked only to describe the job at \\nwhich they work the most hours. If respondents did not have a job in the last week, the ACS instead asks \\nthem to describe the job at which they most recently worked within the past 5 years. Although the 2018 \\nACS 1-year estimates reference the 2018 calendar year, they are used in this report to supplement selected \\nfindings from the SIPP since both surveys use the 2018 Census Occupation Code List. For information on the \\nACS sample design and other topics, visit <www.census.gov/programs-surveys/acs/>. For more information \\nabout the 2018 Census Occupation Code List, refer to <www.census.gov/topics/employment/industry-occu-\\npation/guidance/code-lists.html>.\\nReport Universe\\nThe universe for the SIPP and ACS estimates in this report consists of employed, civilian, noninstitutionalized \\nworkers 16 years or older. People living outside the United States or in Puerto Rico, as well as unpaid family \\nworkers, are excluded from all estimates. Given the longitudinal nature of the SIPP, this report focuses exclu-\\nsively on the first job listed chronologically for December 2017 to identify how individuals’ employment char-\\nacteristics are associated with a specified job. For people holding multiple jobs in December 2017, the first \\njob listed is the one held longest. In some cases, a person’s first job listed in December 2017 may not corre-\\nspond with the job in which they worked the most hours during the year (for example, if the worker switched \\njobs in November). Workers who reported zero hours worked in December are excluded, as are workers who \\nonly reported summary characteristics about their job. Additionally, to avoid making comparisons with the \\nunemployed or people who were not in the labor force, this report focuses only on those individuals in the \\nACS who reported they were employed during 2018.'),\n",
       " Document(id='287c575e-0fa0-4a5e-ba8b-cfe8299ef99d', metadata={'producer': 'Adobe PDF Library 17.0', 'creator': 'Adobe InDesign 18.5 (Windows)', 'creationdate': '2023-10-19T11:35:38-04:00', 'author': 'U.S. Census Bureau', 'keywords': 'household income in states and metropolitan areas 2022', 'moddate': '2023-11-30T12:35:09+00:00', 'title': 'Household Income in States and Metropolitan Areas: 2022', 'trapped': '/false', 'source': 'us_sensus\\\\acsbr-017.pdf', 'total_pages': 9, 'page': 8, 'page_label': '9'}, page_content='U.S. Census Bureau  9\\nsamples interviewed from  \\nJanuary 1, 2021, through  \\nDecember 31, 2021, (2021 ACS and \\n2021 PRCS), and  \\nJanuary 1, 2022, through \\nDecember 31, 2022 (2022 ACS and \\n2022 PRCS). The estimates based \\non these samples describe the \\naverage values of person, house-\\nhold, and housing unit characteris-\\ntics over this period of collection. \\nSampling error is the uncertainty \\nbetween an estimate based on \\na sample and the correspond-\\ning value that would be obtained \\nif the estimate were based on \\nthe entire population (as from a \\ncensus). Measures of sampling \\nerror are provided in the form of \\nmargins of error for all estimates \\nincluded in this report. All com-\\nparative statements in this report \\nhave undergone statistical testing, \\nand comparisons are significant \\nat the 90 percent level unless \\notherwise noted. In addition to \\nsampling error, nonsampling error \\nmay be introduced during any of \\nthe operations used to collect and \\nprocess survey data such as edit-\\ning, reviewing, or keying data from \\nquestionnaires. For more informa-\\ntion on sampling and estimation \\nmethods, confidentiality protec-\\ntion, and sampling and nonsam-\\npling errors, refer to the 2021 ACS \\nAccuracy of the Data document \\nat <www.census.gov/programs-\\nsurveys/acs/technical-documenta-\\ntion/code-lists.html>.\\nNOTES\\nThe Census Bureau also reports \\nincome estimates based on data \\nfrom the Current Population \\nSurvey (CPS). The CPS is the \\nCensus Bureau’s longest-running \\nhousehold survey. The CPS Annual \\nSocial and Economic Supplement \\n(ASEC) asks detailed questions \\ncategorizing income into over 50 \\nsources. The key purpose of the \\nCPS ASEC is to provide timely and \\ndetailed estimates of income and \\nto measure change in national-\\nlevel estimates. The CPS ASEC \\nis the official source of national \\npoverty estimates. For more infor-\\nmation from the CPS ASEC about \\nnational income estimates, refer to \\nthe report “Income in the United \\nStates: 2022.”\\nFor information on income esti-\\nmates from the ACS and how they \\ndiffer from those based on the \\nCPS ASEC, refer to “Fact Sheet: \\nDifferences Between the American \\nCommunity Survey and the Annual \\nSocial and Economic Supplement \\nto the Current Population Survey \\n(CPS ASEC).”\\nWHAT IS THE AMERICAN COMMUNITY SURVEY?\\nThe American Community Survey (ACS) is a nationwide survey designed to provide reliable and timely \\ndemographic, social, economic, and housing data for the nation, states, congressional districts, counties, \\nplaces, and other localities every year. It has an annual sample size of about 3.5 million addresses across \\nthe United States and Puerto Rico and includes both housing units and group quarters (e.g., nursing homes \\nand prisons). The ACS is conducted in every county throughout the nation and in every municipio in Puerto \\nRico, where it is called the Puerto Rico Community Survey. Beginning in 2006, ACS data for 2005 were \\nreleased for geographic areas with populations of 65,000 and greater. For information on the ACS sample \\ndesign and other topics, visit <www.census.gov/programs-surveys/acs/>.')]"
      ]
     },
     "execution_count": 10,
     "metadata": {},
     "output_type": "execute_result"
    }
   ],
   "source": [
    "vectors = FAISS.from_documents(documents, embeddings)\n",
    "vectors.similarity_search(\"what is census\")"
   ]
  },
  {
   "cell_type": "code",
   "execution_count": null,
   "metadata": {},
   "outputs": [],
   "source": []
  }
 ],
 "metadata": {
  "kernelspec": {
   "display_name": ".venv",
   "language": "python",
   "name": "python3"
  },
  "language_info": {
   "codemirror_mode": {
    "name": "ipython",
    "version": 3
   },
   "file_extension": ".py",
   "mimetype": "text/x-python",
   "name": "python",
   "nbconvert_exporter": "python",
   "pygments_lexer": "ipython3",
   "version": "3.10.5"
  }
 },
 "nbformat": 4,
 "nbformat_minor": 2
}
